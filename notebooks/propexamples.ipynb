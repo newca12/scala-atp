{
 "cells": [
  {
   "cell_type": "code",
   "execution_count": 2,
   "metadata": {},
   "outputs": [
    {
     "data": {
      "text/plain": [
       "\u001b[32mimport \u001b[39m\u001b[36m$ivy.$                        \n",
       "\u001b[39m\n",
       "\u001b[32mimport \u001b[39m\u001b[36morg.edla.port.atp.Formulas.Formula\n",
       "\u001b[39m\n",
       "\u001b[32mimport \u001b[39m\u001b[36morg.edla.port.atp.Prop._\n",
       "\u001b[39m\n",
       "\u001b[32mimport \u001b[39m\u001b[36morg.edla.port.atp.PropExamples.ramsey\n",
       "\u001b[39m\n",
       "defined \u001b[32mfunction\u001b[39m \u001b[36mdefault_parser\u001b[39m"
      ]
     },
     "execution_count": 2,
     "metadata": {},
     "output_type": "execute_result"
    }
   ],
   "source": [
    "import $ivy.`org.edla::scala-atp:0.5`\n",
    "import org.edla.port.atp.Formulas.Formula\n",
    "import org.edla.port.atp.Prop._\n",
    "import org.edla.port.atp.PropExamples.ramsey\n",
    "implicit def default_parser(s: String) = parse_prop_formula(s)"
   ]
  },
  {
   "cell_type": "code",
   "execution_count": 4,
   "metadata": {},
   "outputs": [],
   "source": [
    "//pretty print trick (https://github.com/lihaoyi/Ammonite/issues/888#issuecomment-433798741)\n",
    "repl.pprinter() = repl.pprinter().copy(\n",
    "  additionalHandlers = repl.pprinter().additionalHandlers.orElse{\n",
    "    case x: Formula => pprint.Tree.Literal(x.toString())\n",
    "  }\n",
    ")"
   ]
  },
  {
   "cell_type": "markdown",
   "metadata": {},
   "source": [
    "```\n",
    "// pg. 63\n",
    "// ------------------------------------------------------------------------- //\n",
    "// Some currently tractable examples.                                        //\n",
    "// ------------------------------------------------------------------------- //\n",
    "```"
   ]
  },
  {
   "cell_type": "code",
   "execution_count": 5,
   "metadata": {},
   "outputs": [
    {
     "data": {
      "text/plain": [
       "\u001b[36mres4\u001b[39m: \u001b[32mFormula\u001b[39m = \u001b[32m(p_1_2 /\\ p_1_3 /\\ p_2_3 /\\ true \\/ p_1_2 /\\ p_1_4 /\\ p_2_4 /\\ true \\/ p_1_3 /\\ p_1_4 /\\ p_3_4 /\\ true \\/ p_2_3 /\\ p_2_4 /\\ p_3_4 /\\ true \\/ false) \\/ ~p_1_2 /\\ ~p_1_3 /\\ ~p_2_3 /\\ true \\/ ~p_1_2 /\\ ~p_1_4 /\\ ~p_2_4 /\\ true \\/ ~p_1_3 /\\ ~p_1_4 /\\ ~p_3_4 /\\ true \\/ ~p_2_3 /\\ ~p_2_4 /\\ ~p_3_4 /\\ true \\/ false\u001b[39m"
      ]
     },
     "execution_count": 5,
     "metadata": {},
     "output_type": "execute_result"
    }
   ],
   "source": [
    "ramsey(3,3,4)"
   ]
  },
  {
   "cell_type": "code",
   "execution_count": 8,
   "metadata": {},
   "outputs": [
    {
     "data": {
      "text/plain": [
       "\u001b[36mres7\u001b[39m: \u001b[32mBoolean\u001b[39m = false"
      ]
     },
     "execution_count": 8,
     "metadata": {},
     "output_type": "execute_result"
    }
   ],
   "source": [
    "tautology(ramsey(3,3,5))"
   ]
  },
  {
   "cell_type": "code",
   "execution_count": 7,
   "metadata": {},
   "outputs": [
    {
     "data": {
      "text/plain": [
       "\u001b[36mres6\u001b[39m: \u001b[32mBoolean\u001b[39m = true"
      ]
     },
     "execution_count": 7,
     "metadata": {},
     "output_type": "execute_result"
    }
   ],
   "source": [
    "tautology(ramsey(3,3,6))"
   ]
  }
 ],
 "metadata": {
  "kernelspec": {
   "display_name": "Scala",
   "language": "scala",
   "name": "scala"
  },
  "language_info": {
   "codemirror_mode": "text/x-scala",
   "file_extension": ".scala",
   "mimetype": "text/x-scala",
   "name": "scala",
   "nbconvert_exporter": "script",
   "version": "2.12.8"
  }
 },
 "nbformat": 4,
 "nbformat_minor": 2
}
