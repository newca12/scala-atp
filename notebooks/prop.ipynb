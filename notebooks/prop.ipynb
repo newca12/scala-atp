{
 "cells": [
  {
   "cell_type": "code",
   "execution_count": 1,
   "metadata": {},
   "outputs": [
    {
     "data": {
      "text/plain": [
       "\u001b[32mimport \u001b[39m\u001b[36m$ivy.$                        \n",
       "\u001b[39m\n",
       "\u001b[32mimport \u001b[39m\u001b[36morg.edla.port.atp.Prop._\n",
       "\u001b[39m\n",
       "\u001b[32mimport \u001b[39m\u001b[36morg.edla.port.atp.Formulas._\n",
       "\u001b[39m\n",
       "defined \u001b[32mfunction\u001b[39m \u001b[36mdefault_parser\u001b[39m"
      ]
     },
     "execution_count": 1,
     "metadata": {},
     "output_type": "execute_result"
    }
   ],
   "source": [
    "import $ivy.`org.edla::scala-atp:0.1`\n",
    "import org.edla.port.atp.Prop._\n",
    "import org.edla.port.atp.Formulas._\n",
    "implicit def default_parser(s: String) = parse_prop_formula(s)"
   ]
  },
  {
   "cell_type": "raw",
   "metadata": {},
   "source": [
    "// pg. 29\n",
    "// ------------------------------------------------------------------------- //\n",
    "// Testing the parser and printer                                            //\n",
    "// ------------------------------------------------------------------------- //"
   ]
  },
  {
   "cell_type": "code",
   "execution_count": 2,
   "metadata": {},
   "outputs": [
    {
     "data": {
      "text/plain": [
       "\u001b[36mfm001\u001b[39m: \u001b[32mFormula\u001b[39m = p ==> q <=> r /\\ s \\/ (t <=> ~(~u) /\\ v)"
      ]
     },
     "execution_count": 2,
     "metadata": {},
     "output_type": "execute_result"
    }
   ],
   "source": [
    "val fm001: Formula = \"\"\"p ==> q <=> r /\\ s \\/ (t <=> ~ ~u /\\ v)\"\"\""
   ]
  },
  {
   "cell_type": "raw",
   "metadata": {},
   "source": [
    "// pg. 30\n",
    "// prop.p001"
   ]
  },
  {
   "cell_type": "code",
   "execution_count": 3,
   "metadata": {},
   "outputs": [
    {
     "data": {
      "text/plain": [
       "\u001b[36mres2\u001b[39m: \u001b[32mAnd\u001b[39m = (p ==> q <=> r /\\ s \\/ (t <=> ~(~u) /\\ v)) /\\ (p ==> q <=> r /\\ s \\/ (t <=> ~(~u) /\\ v))"
      ]
     },
     "execution_count": 3,
     "metadata": {},
     "output_type": "execute_result"
    }
   ],
   "source": [
    "And(fm001, fm001)"
   ]
  },
  {
   "cell_type": "raw",
   "metadata": {},
   "source": [
    "// prop.p002"
   ]
  },
  {
   "cell_type": "code",
   "execution_count": 4,
   "metadata": {},
   "outputs": [
    {
     "data": {
      "text/plain": [
       "\u001b[36mres3\u001b[39m: \u001b[32mAnd\u001b[39m = ((p ==> q <=> r /\\ s \\/ (t <=> ~(~u) /\\ v)) \\/ (p ==> q <=> r /\\ s \\/ (t <=> ~(~u) /\\ v))) /\\ (p ==> q <=> r /\\ s \\/ (t <=> ~(~u) /\\ v))"
      ]
     },
     "execution_count": 4,
     "metadata": {},
     "output_type": "execute_result"
    }
   ],
   "source": [
    "And(Or(fm001, fm001), fm001)"
   ]
  },
  {
   "cell_type": "raw",
   "metadata": {},
   "source": [
    "// pg. 33\n",
    "// prop.p003"
   ]
  },
  {
   "cell_type": "code",
   "execution_count": 5,
   "metadata": {},
   "outputs": [
    {
     "data": {
      "text/plain": [
       "\u001b[36mres4\u001b[39m: \u001b[32mBoolean\u001b[39m = \u001b[32mfalse\u001b[39m"
      ]
     },
     "execution_count": 5,
     "metadata": {},
     "output_type": "execute_result"
    }
   ],
   "source": [
    "false && false"
   ]
  },
  {
   "cell_type": "raw",
   "metadata": {},
   "source": [
    "// prop.p004"
   ]
  },
  {
   "cell_type": "code",
   "execution_count": 6,
   "metadata": {},
   "outputs": [
    {
     "data": {
      "text/plain": [
       "\u001b[36mres5\u001b[39m: \u001b[32mBoolean\u001b[39m = \u001b[32mfalse\u001b[39m"
      ]
     },
     "execution_count": 6,
     "metadata": {},
     "output_type": "execute_result"
    }
   ],
   "source": [
    "false && true"
   ]
  },
  {
   "cell_type": "raw",
   "metadata": {},
   "source": [
    "// prop.p005"
   ]
  },
  {
   "cell_type": "code",
   "execution_count": 7,
   "metadata": {},
   "outputs": [
    {
     "data": {
      "text/plain": [
       "\u001b[36mres6\u001b[39m: \u001b[32mBoolean\u001b[39m = \u001b[32mfalse\u001b[39m"
      ]
     },
     "execution_count": 7,
     "metadata": {},
     "output_type": "execute_result"
    }
   ],
   "source": [
    "true && false"
   ]
  },
  {
   "cell_type": "raw",
   "metadata": {},
   "source": [
    "// prop.p006"
   ]
  },
  {
   "cell_type": "code",
   "execution_count": 8,
   "metadata": {},
   "outputs": [
    {
     "data": {
      "text/plain": [
       "\u001b[36mres7\u001b[39m: \u001b[32mBoolean\u001b[39m = \u001b[32mtrue\u001b[39m"
      ]
     },
     "execution_count": 8,
     "metadata": {},
     "output_type": "execute_result"
    }
   ],
   "source": [
    "true && true"
   ]
  },
  {
   "cell_type": "raw",
   "metadata": {},
   "source": [
    "// pg. 33\n",
    "// ------------------------------------------------------------------------- //\n",
    "// Example of use.                                                           //\n",
    "// ------------------------------------------------------------------------- //\n",
    "\n",
    "// prop.p007\n",
    "// Harrison #01"
   ]
  },
  {
   "cell_type": "code",
   "execution_count": 9,
   "metadata": {},
   "outputs": [
    {
     "data": {
      "text/plain": [
       "\u001b[36mres8\u001b[39m: \u001b[32mBoolean\u001b[39m = \u001b[32mtrue\u001b[39m"
      ]
     },
     "execution_count": 9,
     "metadata": {},
     "output_type": "execute_result"
    }
   ],
   "source": [
    "  eval(\"\"\"p /\\ q ==> q /\\ r\"\"\")(_ match {\n",
    "    case \"p\" => true\n",
    "    case \"q\" => false\n",
    "    case \"r\" => true\n",
    "  })"
   ]
  },
  {
   "cell_type": "raw",
   "metadata": {},
   "source": [
    "// prop.p008\n",
    "// Harrison #01"
   ]
  },
  {
   "cell_type": "code",
   "execution_count": 10,
   "metadata": {},
   "outputs": [
    {
     "data": {
      "text/plain": [
       "\u001b[36mres9\u001b[39m: \u001b[32mBoolean\u001b[39m = \u001b[32mfalse\u001b[39m"
      ]
     },
     "execution_count": 10,
     "metadata": {},
     "output_type": "execute_result"
    }
   ],
   "source": [
    "  eval(\"\"\"p /\\ q ==> q /\\ r\"\"\")(_ match {\n",
    "    case \"p\" => true\n",
    "    case \"q\" => true\n",
    "    case \"r\" => false\n",
    "  })"
   ]
  },
  {
   "cell_type": "raw",
   "metadata": {},
   "source": [
    "// pg. 35\n",
    "// ------------------------------------------------------------------------- //\n",
    "// Example.                                                                  //\n",
    "// ------------------------------------------------------------------------- //\n",
    "\n",
    "// prop.p009"
   ]
  },
  {
   "cell_type": "code",
   "execution_count": 11,
   "metadata": {},
   "outputs": [
    {
     "data": {
      "text/plain": [
       "\u001b[36mres10\u001b[39m: \u001b[32mList\u001b[39m[\u001b[32mString\u001b[39m] = \u001b[33mList\u001b[39m(\u001b[32m\"p\"\u001b[39m, \u001b[32m\"q\"\u001b[39m, \u001b[32m\"r\"\u001b[39m, \u001b[32m\"s\"\u001b[39m)"
      ]
     },
     "execution_count": 11,
     "metadata": {},
     "output_type": "execute_result"
    }
   ],
   "source": [
    "atoms(\"\"\"p /\\ q \\/ s ==> ~p \\/ (r <=> s)\"\"\")"
   ]
  },
  {
   "cell_type": "raw",
   "metadata": {},
   "source": [
    "// pg. 36\n",
    "// ------------------------------------------------------------------------- //\n",
    "// Example.                                                                  //\n",
    "// ------------------------------------------------------------------------- //\n",
    "\n",
    "// prop.p010\n",
    "// Harrison #01"
   ]
  },
  {
   "cell_type": "code",
   "execution_count": 12,
   "metadata": {},
   "outputs": [
    {
     "name": "stdout",
     "output_type": "stream",
     "text": [
      "p      q      r      | formula\n",
      "------------------------------\n",
      "false  false  false  | true   \n",
      "false  false  true   | true   \n",
      "false  true   false  | true   \n",
      "false  true   true   | true   \n",
      "true   false  false  | true   \n",
      "true   false  true   | true   \n",
      "true   true   false  | false  \n",
      "true   true   true   | true   \n",
      "------------------------------\n"
     ]
    }
   ],
   "source": [
    "print_truthtable(\"\"\"p /\\ q ==> q /\\ r\"\"\")"
   ]
  },
  {
   "cell_type": "raw",
   "metadata": {},
   "source": [
    "// prop.p011\n",
    "// Harrison #01"
   ]
  },
  {
   "cell_type": "code",
   "execution_count": 13,
   "metadata": {},
   "outputs": [
    {
     "name": "stdout",
     "output_type": "stream",
     "text": [
      "p      q      r      | formula\n",
      "------------------------------\n",
      "false  false  false  | true   \n",
      "false  false  true   | true   \n",
      "false  true   false  | true   \n",
      "false  true   true   | true   \n",
      "true   false  false  | true   \n",
      "true   false  true   | true   \n",
      "true   true   false  | false  \n",
      "true   true   true   | true   \n",
      "------------------------------\n"
     ]
    },
    {
     "data": {
      "text/plain": [
       "\u001b[36mfm002\u001b[39m: \u001b[32mString\u001b[39m = \u001b[32m\"\"\"\n",
       "p /\\ q ==> q /\\ r\n",
       "\"\"\"\u001b[39m"
      ]
     },
     "execution_count": 13,
     "metadata": {},
     "output_type": "execute_result"
    }
   ],
   "source": [
    "val fm002 = \"\"\"p /\\ q ==> q /\\ r\"\"\"\n",
    "print_truthtable(fm002)"
   ]
  },
  {
   "cell_type": "raw",
   "metadata": {},
   "source": [
    "// pg. 39\n",
    "// ------------------------------------------------------------------------- //\n",
    "// Additional examples illustrating formula classes.                         //\n",
    "// ------------------------------------------------------------------------- //\n",
    "\n",
    "// prop.p012\n",
    "// Pelletier #08"
   ]
  },
  {
   "cell_type": "code",
   "execution_count": 14,
   "metadata": {},
   "outputs": [
    {
     "name": "stdout",
     "output_type": "stream",
     "text": [
      "p      q      | formula\n",
      "-----------------------\n",
      "false  false  | true   \n",
      "false  true   | true   \n",
      "true   false  | true   \n",
      "true   true   | true   \n",
      "-----------------------\n"
     ]
    }
   ],
   "source": [
    "print_truthtable(\"\"\"((p ==> q) ==> p) ==> p\"\"\")"
   ]
  },
  {
   "cell_type": "raw",
   "metadata": {},
   "source": [
    "// prop.p013"
   ]
  },
  {
   "cell_type": "code",
   "execution_count": 15,
   "metadata": {},
   "outputs": [
    {
     "name": "stdout",
     "output_type": "stream",
     "text": [
      "p      | formula\n",
      "----------------\n",
      "false  | false  \n",
      "true   | false  \n",
      "----------------\n"
     ]
    }
   ],
   "source": [
    "print_truthtable(\"\"\"p /\\ ~p\"\"\")"
   ]
  },
  {
   "cell_type": "code",
   "execution_count": 15,
   "metadata": {
    "collapsed": true
   },
   "outputs": [],
   "source": [
    "// pg. 41\n",
    "// ------------------------------------------------------------------------- //\n",
    "// Examples.                                                                 //\n",
    "// ------------------------------------------------------------------------- //\n",
    "\n",
    "// prop.p014\n",
    "// Pelletier #06"
   ]
  },
  {
   "cell_type": "code",
   "execution_count": 16,
   "metadata": {},
   "outputs": [
    {
     "data": {
      "text/plain": [
       "\u001b[36mres15\u001b[39m: \u001b[32mBoolean\u001b[39m = \u001b[32mtrue\u001b[39m"
      ]
     },
     "execution_count": 16,
     "metadata": {},
     "output_type": "execute_result"
    }
   ],
   "source": [
    "tautology(\"\"\"p \\/ ~p\"\"\"\")"
   ]
  },
  {
   "cell_type": "raw",
   "metadata": {},
   "source": [
    "// prop.p015"
   ]
  },
  {
   "cell_type": "code",
   "execution_count": 17,
   "metadata": {},
   "outputs": [
    {
     "data": {
      "text/plain": [
       "\u001b[36mres16\u001b[39m: \u001b[32mBoolean\u001b[39m = \u001b[32mfalse\u001b[39m"
      ]
     },
     "execution_count": 17,
     "metadata": {},
     "output_type": "execute_result"
    }
   ],
   "source": [
    "tautology(\"\"\"p \\/ q ==> p\"\"\"\")"
   ]
  },
  {
   "cell_type": "raw",
   "metadata": {},
   "source": [
    "// prop.p016"
   ]
  },
  {
   "cell_type": "code",
   "execution_count": 18,
   "metadata": {},
   "outputs": [
    {
     "data": {
      "text/plain": [
       "\u001b[36mres17\u001b[39m: \u001b[32mBoolean\u001b[39m = \u001b[32mfalse\u001b[39m"
      ]
     },
     "execution_count": 18,
     "metadata": {},
     "output_type": "execute_result"
    }
   ],
   "source": [
    "tautology(\"\"\"p \\/ q ==> q \\/ (p <=> q)\"\"\"\")"
   ]
  },
  {
   "cell_type": "raw",
   "metadata": {},
   "source": [
    "// prop.p017"
   ]
  },
  {
   "cell_type": "code",
   "execution_count": 19,
   "metadata": {},
   "outputs": [
    {
     "data": {
      "text/plain": [
       "\u001b[36mres18\u001b[39m: \u001b[32mBoolean\u001b[39m = \u001b[32mtrue\u001b[39m"
      ]
     },
     "execution_count": 19,
     "metadata": {},
     "output_type": "execute_result"
    }
   ],
   "source": [
    "tautology(\"\"\"(p \\/ q) /\\ ~(p /\\ q) ==> (~p <=> q)\"\"\"\")"
   ]
  },
  {
   "cell_type": "raw",
   "metadata": {},
   "source": [
    "// pg. 43\n",
    "// ------------------------------------------------------------------------- //\n",
    "// Surprising tautologies including Dijkstra's \"Golden rule\".                //\n",
    "// ------------------------------------------------------------------------- //\n",
    "\n",
    "// prop.p019\n",
    "// Pelletier #16"
   ]
  },
  {
   "cell_type": "code",
   "execution_count": 20,
   "metadata": {},
   "outputs": [
    {
     "data": {
      "text/plain": [
       "\u001b[36mres19\u001b[39m: \u001b[32mBoolean\u001b[39m = \u001b[32mtrue\u001b[39m"
      ]
     },
     "execution_count": 20,
     "metadata": {},
     "output_type": "execute_result"
    }
   ],
   "source": [
    "tautology(\"\"\"(p ==> q) \\/ (q ==> p)\"\"\")"
   ]
  },
  {
   "cell_type": "raw",
   "metadata": {},
   "source": [
    "// prop.p020"
   ]
  },
  {
   "cell_type": "code",
   "execution_count": 21,
   "metadata": {},
   "outputs": [
    {
     "data": {
      "text/plain": [
       "\u001b[36mres20\u001b[39m: \u001b[32mBoolean\u001b[39m = \u001b[32mtrue\u001b[39m"
      ]
     },
     "execution_count": 21,
     "metadata": {},
     "output_type": "execute_result"
    }
   ],
   "source": [
    "tautology(\"\"\"p \\/ (q <=> r) <=> (p \\/ q <=> p \\/ r)\"\"\")"
   ]
  },
  {
   "cell_type": "raw",
   "metadata": {},
   "source": [
    "// prop.p021\n",
    "// Harrison #02 - Equations within equations"
   ]
  },
  {
   "cell_type": "code",
   "execution_count": 22,
   "metadata": {},
   "outputs": [
    {
     "data": {
      "text/plain": [
       "\u001b[36mres21\u001b[39m: \u001b[32mBoolean\u001b[39m = \u001b[32mtrue\u001b[39m"
      ]
     },
     "execution_count": 22,
     "metadata": {},
     "output_type": "execute_result"
    }
   ],
   "source": [
    "tautology(\"\"\"p /\\ q <=> ((p <=> q) <=> p \\/ q)\"\"\")"
   ]
  },
  {
   "cell_type": "raw",
   "metadata": {},
   "source": [
    "// prop.p022\n",
    "// Harrison #03 - Equations within equations"
   ]
  },
  {
   "cell_type": "code",
   "execution_count": 23,
   "metadata": {},
   "outputs": [
    {
     "data": {
      "text/plain": [
       "\u001b[36mres22\u001b[39m: \u001b[32mBoolean\u001b[39m = \u001b[32mtrue\u001b[39m"
      ]
     },
     "execution_count": 23,
     "metadata": {},
     "output_type": "execute_result"
    }
   ],
   "source": [
    "tautology(\"\"\"(p ==> q) <=> (~q ==> ~p)\"\"\")"
   ]
  },
  {
   "cell_type": "raw",
   "metadata": {},
   "source": [
    "// prop.p023"
   ]
  },
  {
   "cell_type": "code",
   "execution_count": 24,
   "metadata": {},
   "outputs": [
    {
     "data": {
      "text/plain": [
       "\u001b[36mres23\u001b[39m: \u001b[32mBoolean\u001b[39m = \u001b[32mtrue\u001b[39m"
      ]
     },
     "execution_count": 24,
     "metadata": {},
     "output_type": "execute_result"
    }
   ],
   "source": [
    "tautology(\"\"\"(p ==> ~q) <=> (q ==> ~p)\"\"\")"
   ]
  },
  {
   "cell_type": "raw",
   "metadata": {},
   "source": [
    "// prop.p024"
   ]
  },
  {
   "cell_type": "code",
   "execution_count": 25,
   "metadata": {},
   "outputs": [
    {
     "data": {
      "text/plain": [
       "\u001b[36mres24\u001b[39m: \u001b[32mBoolean\u001b[39m = \u001b[32mfalse\u001b[39m"
      ]
     },
     "execution_count": 25,
     "metadata": {},
     "output_type": "execute_result"
    }
   ],
   "source": [
    "tautology(\"\"\"(p ==> q) <=> (q ==> p)\"\"\")"
   ]
  },
  {
   "cell_type": "raw",
   "metadata": {},
   "source": [
    "// pg. 47\n",
    "// ------------------------------------------------------------------------- //\n",
    "// Some logical equivalences allowing elimination of connectives.            //\n",
    "// ------------------------------------------------------------------------- //\n",
    "\n",
    "// prop.p025"
   ]
  },
  {
   "cell_type": "code",
   "execution_count": 26,
   "metadata": {},
   "outputs": [
    {
     "data": {
      "text/plain": [
       "\u001b[36mres25\u001b[39m: \u001b[32mBoolean\u001b[39m = \u001b[32mtrue\u001b[39m"
      ]
     },
     "execution_count": 26,
     "metadata": {},
     "output_type": "execute_result"
    }
   ],
   "source": [
    "  (parse_prop_formula(\"\"\"true <=> false ==> false\"\"\") ::\n",
    "    parse_prop_formula(\"\"\"~p <=> p ==> false\"\"\") ::\n",
    "    parse_prop_formula(\"\"\"p /\\ q <=> (p ==> q ==> false) ==> false\"\"\") ::\n",
    "    parse_prop_formula(\"\"\"p \\/ q <=> (p ==> false) ==> q\"\"\") ::\n",
    "    parse_prop_formula(\"\"\"(p <=> q) <=> ((p ==> q) ==> (q ==> p) ==> false) ==> false\"\"\")\n",
    "    :: Nil).forall(tautology)"
   ]
  },
  {
   "cell_type": "raw",
   "metadata": {},
   "source": [
    "// pg. 49.\n",
    "// ------------------------------------------------------------------------- //\n",
    "// Example.                                                                  //\n",
    "// ------------------------------------------------------------------------- //\n",
    "\n",
    "// prop.p026\n",
    "// Pelletier #06"
   ]
  },
  {
   "cell_type": "code",
   "execution_count": 27,
   "metadata": {},
   "outputs": [
    {
     "data": {
      "text/plain": [
       "\u001b[36mres26\u001b[39m: \u001b[32mFormula\u001b[39m = p /\\ ~p"
      ]
     },
     "execution_count": 27,
     "metadata": {},
     "output_type": "execute_result"
    }
   ],
   "source": [
    "dual(\"\"\"p \\/ ~p\"\"\")"
   ]
  },
  {
   "cell_type": "raw",
   "metadata": {},
   "source": [
    "// pg. 51\n",
    "// ------------------------------------------------------------------------- //\n",
    "// Example.                                                                  //\n",
    "// ------------------------------------------------------------------------- //\n",
    "\n",
    "// prop.p027"
   ]
  },
  {
   "cell_type": "code",
   "execution_count": 28,
   "metadata": {},
   "outputs": [
    {
     "data": {
      "text/plain": [
       "\u001b[36mres27\u001b[39m: \u001b[32mFormula\u001b[39m = ~x ==> ~y"
      ]
     },
     "execution_count": 28,
     "metadata": {},
     "output_type": "execute_result"
    }
   ],
   "source": [
    "psimplify(\"\"\"(true ==> (x <=> false)) ==> ~(y \\/ false /\\ z)\"\"\")"
   ]
  },
  {
   "cell_type": "raw",
   "metadata": {},
   "source": [
    "// prop.p028"
   ]
  },
  {
   "cell_type": "code",
   "execution_count": 29,
   "metadata": {},
   "outputs": [
    {
     "data": {
      "text/plain": [
       "\u001b[36mres28\u001b[39m: \u001b[32mFormula\u001b[39m = true"
      ]
     },
     "execution_count": 29,
     "metadata": {},
     "output_type": "execute_result"
    }
   ],
   "source": [
    "psimplify(\"\"\"((x ==> y) ==> true) \\/ ~false\"\"\")"
   ]
  },
  {
   "cell_type": "raw",
   "metadata": {},
   "source": [
    "// pg. 53\n",
    "// ------------------------------------------------------------------------- //\n",
    "// Example of NNF function in action.                                        //\n",
    "// ------------------------------------------------------------------------- //"
   ]
  },
  {
   "cell_type": "code",
   "execution_count": 30,
   "metadata": {},
   "outputs": [
    {
     "data": {
      "text/plain": [
       "\u001b[36mfm003\u001b[39m: \u001b[32mFormula\u001b[39m = (p <=> q) <=> ~(r ==> s)\n",
       "\u001b[36mfm003_\u001b[39m: \u001b[32mFormula\u001b[39m = (p /\\ q \\/ ~p /\\ ~q) /\\ r /\\ ~s \\/ (p /\\ ~q \\/ ~p /\\ q) /\\ (~r \\/ s)"
      ]
     },
     "execution_count": 30,
     "metadata": {},
     "output_type": "execute_result"
    }
   ],
   "source": [
    "val fm003: Formula = \"\"\"(p <=> q) <=> ~(r ==> s)\"\"\"\n",
    "val fm003_ = nnf(fm003)"
   ]
  },
  {
   "cell_type": "raw",
   "metadata": {},
   "source": [
    "// prop.p029"
   ]
  },
  {
   "cell_type": "code",
   "execution_count": 31,
   "metadata": {},
   "outputs": [
    {
     "data": {
      "text/plain": [
       "\u001b[36mres30\u001b[39m: \u001b[32mBoolean\u001b[39m = \u001b[32mtrue\u001b[39m"
      ]
     },
     "execution_count": 31,
     "metadata": {},
     "output_type": "execute_result"
    }
   ],
   "source": [
    "tautology(Iff(fm003, fm003_)) "
   ]
  },
  {
   "cell_type": "raw",
   "metadata": {},
   "source": [
    "// pg. 54\n",
    "// ------------------------------------------------------------------------- //\n",
    "// Some tautologies remarked on.                                             //\n",
    "// ------------------------------------------------------------------------- //\n",
    "\n",
    "// prop.p030"
   ]
  },
  {
   "cell_type": "code",
   "execution_count": 32,
   "metadata": {},
   "outputs": [
    {
     "data": {
      "text/plain": [
       "\u001b[36mres31\u001b[39m: \u001b[32mBoolean\u001b[39m = \u001b[32mtrue\u001b[39m"
      ]
     },
     "execution_count": 32,
     "metadata": {},
     "output_type": "execute_result"
    }
   ],
   "source": [
    "tautology(\"\"\"(p ==> p') /\\ (q ==> q') ==> (p /\\ q ==> p' /\\ q')\"\"\")"
   ]
  },
  {
   "cell_type": "raw",
   "metadata": {},
   "source": [
    "// prop.p031"
   ]
  },
  {
   "cell_type": "code",
   "execution_count": 33,
   "metadata": {},
   "outputs": [
    {
     "data": {
      "text/plain": [
       "\u001b[36mres32\u001b[39m: \u001b[32mBoolean\u001b[39m = \u001b[32mtrue\u001b[39m"
      ]
     },
     "execution_count": 33,
     "metadata": {},
     "output_type": "execute_result"
    }
   ],
   "source": [
    "tautology(\"\"\"(p ==> p') /\\ (q ==> q') ==> (p \\/ q ==> p' \\/ q')\"\"\")"
   ]
  },
  {
   "cell_type": "raw",
   "metadata": {},
   "source": [
    "// pg. 58\n",
    "// ------------------------------------------------------------------------- //\n",
    "// Example.                                                                  //\n",
    "// ------------------------------------------------------------------------- //\n",
    "//\n",
    "\n",
    "// prop.p035\n",
    "// Harrison #04"
   ]
  },
  {
   "cell_type": "code",
   "execution_count": 34,
   "metadata": {},
   "outputs": [
    {
     "data": {
      "text/plain": [
       "\u001b[36mres33\u001b[39m: \u001b[32mFormula\u001b[39m = (p /\\ ~p \\/ (q /\\ r) /\\ ~p) \\/ p /\\ ~r \\/ (q /\\ r) /\\ ~r"
      ]
     },
     "execution_count": 34,
     "metadata": {},
     "output_type": "execute_result"
    }
   ],
   "source": [
    "rawdnf(\"\"\"(p \\/ q /\\ r) /\\ (~p \\/ ~r)\"\"\")"
   ]
  },
  {
   "cell_type": "raw",
   "metadata": {},
   "source": [
    "// prop.p036\n",
    "// Harrison #04"
   ]
  },
  {
   "cell_type": "code",
   "execution_count": 35,
   "metadata": {},
   "outputs": [
    {
     "data": {
      "text/plain": [
       "\u001b[36mres34\u001b[39m: \u001b[32mList\u001b[39m[\u001b[32mList\u001b[39m[\u001b[32mFormula\u001b[39m]] = \u001b[33mList\u001b[39m(\u001b[33mList\u001b[39m(p, ~p), \u001b[33mList\u001b[39m(p, ~r), \u001b[33mList\u001b[39m(q, r, ~p), \u001b[33mList\u001b[39m(q, r, ~r))"
      ]
     },
     "execution_count": 35,
     "metadata": {},
     "output_type": "execute_result"
    }
   ],
   "source": [
    "purednf(\"\"\"(p \\/ q /\\ r) /\\ (~p \\/ ~r)\"\"\")"
   ]
  },
  {
   "cell_type": "raw",
   "metadata": {},
   "source": [
    "// pg. 59\n",
    "// ------------------------------------------------------------------------- //\n",
    "// Example.                                                                  //\n",
    "// ------------------------------------------------------------------------- //\n",
    "\n",
    "// prop.p037\n",
    "// Harrison #04"
   ]
  },
  {
   "cell_type": "code",
   "execution_count": 36,
   "metadata": {},
   "outputs": [
    {
     "data": {
      "text/plain": [
       "\u001b[36mres35\u001b[39m: \u001b[32mList\u001b[39m[\u001b[32mList\u001b[39m[\u001b[32mFormula\u001b[39m]] = \u001b[33mList\u001b[39m(\u001b[33mList\u001b[39m(p, ~r), \u001b[33mList\u001b[39m(q, r, ~p))"
      ]
     },
     "execution_count": 36,
     "metadata": {},
     "output_type": "execute_result"
    }
   ],
   "source": [
    "purednf(\"\"\"(p \\/ q /\\ r) /\\ (~p \\/ ~r)\"\"\").filter(!trivial(_))"
   ]
  }
 ],
 "metadata": {
  "kernelspec": {
   "display_name": "Scala",
   "language": "scala",
   "name": "scala"
  },
  "language_info": {
   "codemirror_mode": "text/x-scala",
   "file_extension": ".scala",
   "mimetype": "text/x-scala",
   "name": "scala211",
   "nbconvert_exporter": "script",
   "pygments_lexer": "scala",
   "version": "2.11.11"
  }
 },
 "nbformat": 4,
 "nbformat_minor": 2
}
