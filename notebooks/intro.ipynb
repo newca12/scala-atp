{
 "cells": [
  {
   "cell_type": "code",
   "execution_count": 1,
   "metadata": {},
   "outputs": [
    {
     "data": {
      "text/plain": [
       "\u001b[32mimport \u001b[39m\u001b[36m$ivy.$                        \n",
       "\u001b[39m\n",
       "\u001b[32mimport \u001b[39m\u001b[36morg.edla.port.atp.Intro._\n",
       "\u001b[39m\n",
       "\u001b[32mimport \u001b[39m\u001b[36morg.edla.port.atp.Lex.lex\u001b[39m"
      ]
     },
     "execution_count": 1,
     "metadata": {},
     "output_type": "execute_result"
    }
   ],
   "source": [
    "import $ivy.`org.edla::scala-atp:0.1`\n",
    "import org.edla.port.atp.Intro._\n",
    "import org.edla.port.atp.Lex.lex"
   ]
  },
  {
   "cell_type": "raw",
   "metadata": {},
   "source": [
    "// pg. 14\n",
    "// ------------------------------------------------------------------------- //\n",
    "// Trivial example of using the type constructors.                           //\n",
    "// ------------------------------------------------------------------------- //\n",
    "\n",
    "//intro.p001"
   ]
  },
  {
   "cell_type": "code",
   "execution_count": 2,
   "metadata": {},
   "outputs": [
    {
     "data": {
      "text/plain": [
       "\u001b[36mres1\u001b[39m: \u001b[32mAdd\u001b[39m = \u001b[33mAdd\u001b[39m(Mul(Const(2),Var(x)), Var(y))"
      ]
     },
     "execution_count": 2,
     "metadata": {},
     "output_type": "execute_result"
    }
   ],
   "source": [
    "Add(Mul(Const(2), Var(\"x\")), Var(\"y\"))"
   ]
  },
  {
   "cell_type": "raw",
   "metadata": {},
   "source": [
    "// pg. 16\n",
    "// ------------------------------------------------------------------------- //\n",
    "// Example.                                                                  //\n",
    "// ------------------------------------------------------------------------- //"
   ]
  },
  {
   "cell_type": "code",
   "execution_count": 3,
   "metadata": {},
   "outputs": [
    {
     "data": {
      "text/plain": [
       "\u001b[36me\u001b[39m: \u001b[32mAdd\u001b[39m = \u001b[33mAdd\u001b[39m(Mul(Add(Mul(Const(0),Var(x)),Const(1)),Const(3)), Const(12))"
      ]
     },
     "execution_count": 3,
     "metadata": {},
     "output_type": "execute_result"
    }
   ],
   "source": [
    " val e = Add(Mul(Add(Mul(Const(0), Var(\"x\")), Const(1)), Const(3)), Const(12))"
   ]
  },
  {
   "cell_type": "raw",
   "metadata": {},
   "source": [
    "//intro.p002"
   ]
  },
  {
   "cell_type": "code",
   "execution_count": 4,
   "metadata": {},
   "outputs": [
    {
     "data": {
      "text/plain": [
       "\u001b[36mres3\u001b[39m: \u001b[32mExpression\u001b[39m = Const(15)"
      ]
     },
     "execution_count": 4,
     "metadata": {},
     "output_type": "execute_result"
    }
   ],
   "source": [
    "simplify(e) "
   ]
  },
  {
   "cell_type": "raw",
   "metadata": {},
   "source": [
    "//intro.p003"
   ]
  },
  {
   "cell_type": "code",
   "execution_count": 5,
   "metadata": {},
   "outputs": [
    {
     "data": {
      "text/plain": [
       "\u001b[36mres4\u001b[39m: \u001b[32mString\u001b[39m = \u001b[32m\"2;*;(;(;var_1;+;x;';);+;11;)\"\u001b[39m"
      ]
     },
     "execution_count": 5,
     "metadata": {},
     "output_type": "execute_result"
    }
   ],
   "source": [
    "lex(\"2*((var_1 + x') + 11)\").mkString(\";\")"
   ]
  },
  {
   "cell_type": "raw",
   "metadata": {},
   "source": [
    "// intro.p004"
   ]
  },
  {
   "cell_type": "code",
   "execution_count": 6,
   "metadata": {},
   "outputs": [
    {
     "data": {
      "text/plain": [
       "\u001b[36mres5\u001b[39m: \u001b[32mString\u001b[39m = \u001b[32m\"if;(;*;p1;--;==;*;p2;++;);then;f;(;);else;g;(;)\"\u001b[39m"
      ]
     },
     "execution_count": 6,
     "metadata": {},
     "output_type": "execute_result"
    }
   ],
   "source": [
    "  lex(\"if (*p1-- == *p2++) then f() else g()\").mkString(\";\")"
   ]
  },
  {
   "cell_type": "raw",
   "metadata": {},
   "source": [
    "// pg. 20\n",
    "// ------------------------------------------------------------------------- //\n",
    "// Our parser.                                                               //\n",
    "// ------------------------------------------------------------------------- //\n",
    "\n",
    "// intro.p005"
   ]
  },
  {
   "cell_type": "code",
   "execution_count": 7,
   "metadata": {},
   "outputs": [
    {
     "data": {
      "text/plain": [
       "\u001b[36mres6\u001b[39m: \u001b[32mExpression\u001b[39m = Add(Var(x),Const(1))"
      ]
     },
     "execution_count": 7,
     "metadata": {},
     "output_type": "execute_result"
    }
   ],
   "source": [
    "parseExpression(\"x + 1\")"
   ]
  },
  {
   "cell_type": "raw",
   "metadata": {},
   "source": [
    "// pg. 21\n",
    "// ------------------------------------------------------------------------- //\n",
    "// Demonstrate automatic installation.                                       //\n",
    "// ------------------------------------------------------------------------- //\n",
    "\n",
    "// intro.p006"
   ]
  },
  {
   "cell_type": "code",
   "execution_count": 8,
   "metadata": {},
   "outputs": [
    {
     "data": {
      "text/plain": [
       "\u001b[36mres7\u001b[39m: \u001b[32mExpression\u001b[39m = Mul(Add(Var(x1),Add(Var(x2),Var(x3))),Add(Const(1),Add(Const(2),Add(Mul(Const(3),Var(x)),Var(y)))))"
      ]
     },
     "execution_count": 8,
     "metadata": {},
     "output_type": "execute_result"
    }
   ],
   "source": [
    "parseExpression(\"(x1 + x2 + x3) * (1 + 2 + 3 * x + y)\")"
   ]
  },
  {
   "cell_type": "raw",
   "metadata": {},
   "source": [
    "// pg. 21\n",
    "// ------------------------------------------------------------------------- //\n",
    "// Examples.                                                                 //\n",
    "// ------------------------------------------------------------------------- //\n",
    "\n",
    "// intro.p008"
   ]
  },
  {
   "cell_type": "code",
   "execution_count": 9,
   "metadata": {},
   "outputs": [
    {
     "data": {
      "text/plain": [
       "\u001b[36mres8\u001b[39m: \u001b[32mString\u001b[39m = \u001b[32m\"x + 3 * y\"\u001b[39m"
      ]
     },
     "execution_count": 9,
     "metadata": {},
     "output_type": "execute_result"
    }
   ],
   "source": [
    "printExp(parseExpression(\"x + 3 * y\"))"
   ]
  },
  {
   "cell_type": "raw",
   "metadata": {},
   "source": [
    "// intro.p009"
   ]
  },
  {
   "cell_type": "code",
   "execution_count": 10,
   "metadata": {},
   "outputs": [
    {
     "data": {
      "text/plain": [
       "\u001b[36mres9\u001b[39m: \u001b[32mString\u001b[39m = \u001b[32m\"(x + 3) * y\"\u001b[39m"
      ]
     },
     "execution_count": 10,
     "metadata": {},
     "output_type": "execute_result"
    }
   ],
   "source": [
    "printExp(parseExpression(\"(x + 3) * y\"))"
   ]
  },
  {
   "cell_type": "raw",
   "metadata": {},
   "source": [
    "// intro.p010"
   ]
  },
  {
   "cell_type": "code",
   "execution_count": 11,
   "metadata": {},
   "outputs": [
    {
     "data": {
      "text/plain": [
       "\u001b[36mres10\u001b[39m: \u001b[32mString\u001b[39m = \u001b[32m\"1 + 2 + 3\"\u001b[39m"
      ]
     },
     "execution_count": 11,
     "metadata": {},
     "output_type": "execute_result"
    }
   ],
   "source": [
    "printExp(parseExpression(\"1 + 2 + 3\"))"
   ]
  },
  {
   "cell_type": "code",
   "execution_count": 11,
   "metadata": {
    "collapsed": true
   },
   "outputs": [],
   "source": [
    "// intro.p011"
   ]
  },
  {
   "cell_type": "code",
   "execution_count": 13,
   "metadata": {},
   "outputs": [
    {
     "data": {
      "text/plain": [
       "\u001b[36mres12\u001b[39m: \u001b[32mString\u001b[39m = \u001b[32m\"((1 + 2) + 3) + 4\"\u001b[39m"
      ]
     },
     "execution_count": 13,
     "metadata": {},
     "output_type": "execute_result"
    }
   ],
   "source": [
    "printExp(parseExpression(\"((1 + 2) + 3) + 4\"))"
   ]
  },
  {
   "cell_type": "raw",
   "metadata": {},
   "source": [
    "// pg. 22\n",
    "// ------------------------------------------------------------------------- //\n",
    "// Example shows the problem.                                                //\n",
    "// ------------------------------------------------------------------------- //\n",
    "\n",
    "// intro.p012"
   ]
  },
  {
   "cell_type": "code",
   "execution_count": 12,
   "metadata": {},
   "outputs": [
    {
     "data": {
      "text/plain": [
       "\u001b[36mres11\u001b[39m: \u001b[32mString\u001b[39m = \u001b[32m\"(x1 + x2 + x3 + x4 + x5 + x6 + x7 + x8 + x9 + x10) * (y1 + y2 + y3 + y4 + y5 + y6 + y7 + y8 + y9 + y10)\"\u001b[39m"
      ]
     },
     "execution_count": 12,
     "metadata": {},
     "output_type": "execute_result"
    }
   ],
   "source": [
    "printExp(parseExpression(\"(x1 + x2 + x3 + x4 + x5 + x6 + x7 + x8 + x9 + x10) * (y1 + y2 + y3 + y4 + y5 + y6 + y7 + y8 + y9 + y10)\"))"
   ]
  }
 ],
 "metadata": {
  "kernelspec": {
   "display_name": "Scala",
   "language": "scala",
   "name": "scala"
  },
  "language_info": {
   "codemirror_mode": "text/x-scala",
   "file_extension": ".scala",
   "mimetype": "text/x-scala",
   "name": "scala211",
   "nbconvert_exporter": "script",
   "pygments_lexer": "scala",
   "version": "2.11.11"
  }
 },
 "nbformat": 4,
 "nbformat_minor": 2
}
