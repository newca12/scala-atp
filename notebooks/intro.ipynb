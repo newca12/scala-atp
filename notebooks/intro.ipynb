{
 "cells": [
  {
   "cell_type": "code",
   "execution_count": 1,
   "metadata": {},
   "outputs": [
    {
     "data": {
      "text/plain": [
       "\u001b[32mimport \u001b[39m\u001b[36m$ivy.$                        \n",
       "\u001b[39m\n",
       "\u001b[32mimport \u001b[39m\u001b[36morg.edla.port.atp.Intro._\n",
       "\u001b[39m\n",
       "\u001b[32mimport \u001b[39m\u001b[36morg.edla.port.atp.Lex.lex\u001b[39m"
      ]
     },
     "execution_count": 1,
     "metadata": {},
     "output_type": "execute_result"
    }
   ],
   "source": [
    "import $ivy.`org.edla::scala-atp:0.3`\n",
    "import org.edla.port.atp.Intro._\n",
    "import org.edla.port.atp.Lex.lex"
   ]
  },
  {
   "cell_type": "markdown",
   "metadata": {},
   "source": [
    "```\n",
    "// pg. 14  \n",
    "// ------------------------------------------------------------------------- //  \n",
    "// Trivial example of using the type constructors.                           //  \n",
    "// ------------------------------------------------------------------------- //  \n",
    "\n",
    "//intro.p001\n",
    "```"
   ]
  },
  {
   "cell_type": "code",
   "execution_count": 2,
   "metadata": {},
   "outputs": [
    {
     "data": {
      "text/plain": [
       "\u001b[36mres1\u001b[39m: \u001b[32mAdd\u001b[39m = \u001b[33mAdd\u001b[39m(\u001b[33mMul\u001b[39m(\u001b[33mConst\u001b[39m(\u001b[32m2\u001b[39m), \u001b[33mVar\u001b[39m(\u001b[32m\"x\"\u001b[39m)), \u001b[33mVar\u001b[39m(\u001b[32m\"y\"\u001b[39m))"
      ]
     },
     "execution_count": 2,
     "metadata": {},
     "output_type": "execute_result"
    }
   ],
   "source": [
    "Add(Mul(Const(2), Var(\"x\")), Var(\"y\"))"
   ]
  },
  {
   "cell_type": "markdown",
   "metadata": {},
   "source": [
    "```\n",
    "// pg. 16  \n",
    "// ------------------------------------------------------------------------- //  \n",
    "// Example.                                                                  //  \n",
    "// ------------------------------------------------------------------------- //\n",
    "```"
   ]
  },
  {
   "cell_type": "code",
   "execution_count": 3,
   "metadata": {},
   "outputs": [
    {
     "data": {
      "text/plain": [
       "\u001b[36me\u001b[39m: \u001b[32mAdd\u001b[39m = \u001b[33mAdd\u001b[39m(\u001b[33mMul\u001b[39m(\u001b[33mAdd\u001b[39m(\u001b[33mMul\u001b[39m(\u001b[33mConst\u001b[39m(\u001b[32m0\u001b[39m), \u001b[33mVar\u001b[39m(\u001b[32m\"x\"\u001b[39m)), \u001b[33mConst\u001b[39m(\u001b[32m1\u001b[39m)), \u001b[33mConst\u001b[39m(\u001b[32m3\u001b[39m)), \u001b[33mConst\u001b[39m(\u001b[32m12\u001b[39m))"
      ]
     },
     "execution_count": 3,
     "metadata": {},
     "output_type": "execute_result"
    }
   ],
   "source": [
    " val e = Add(Mul(Add(Mul(Const(0), Var(\"x\")), Const(1)), Const(3)), Const(12))"
   ]
  },
  {
   "cell_type": "markdown",
   "metadata": {},
   "source": [
    "```\n",
    "//intro.p002\n",
    "```"
   ]
  },
  {
   "cell_type": "code",
   "execution_count": 4,
   "metadata": {},
   "outputs": [
    {
     "data": {
      "text/plain": [
       "\u001b[36mres3\u001b[39m: \u001b[32mExpression\u001b[39m = \u001b[33mConst\u001b[39m(\u001b[32m15\u001b[39m)"
      ]
     },
     "execution_count": 4,
     "metadata": {},
     "output_type": "execute_result"
    }
   ],
   "source": [
    "simplify(e) "
   ]
  },
  {
   "cell_type": "markdown",
   "metadata": {},
   "source": [
    "```\n",
    "//intro.p003\n",
    "```"
   ]
  },
  {
   "cell_type": "code",
   "execution_count": 5,
   "metadata": {},
   "outputs": [
    {
     "data": {
      "text/plain": [
       "\u001b[36mres4\u001b[39m: \u001b[32mString\u001b[39m = \u001b[32m\"2;*;(;(;var_1;+;x;';);+;11;)\"\u001b[39m"
      ]
     },
     "execution_count": 5,
     "metadata": {},
     "output_type": "execute_result"
    }
   ],
   "source": [
    "lex(\"2*((var_1 + x') + 11)\").mkString(\";\")"
   ]
  },
  {
   "cell_type": "markdown",
   "metadata": {},
   "source": [
    "```\n",
    "// intro.p004\n",
    "```"
   ]
  },
  {
   "cell_type": "code",
   "execution_count": 6,
   "metadata": {},
   "outputs": [
    {
     "data": {
      "text/plain": [
       "\u001b[36mres5\u001b[39m: \u001b[32mString\u001b[39m = \u001b[32m\"if;(;*;p1;--;==;*;p2;++;);then;f;(;);else;g;(;)\"\u001b[39m"
      ]
     },
     "execution_count": 6,
     "metadata": {},
     "output_type": "execute_result"
    }
   ],
   "source": [
    "  lex(\"if (*p1-- == *p2++) then f() else g()\").mkString(\";\")"
   ]
  },
  {
   "cell_type": "markdown",
   "metadata": {},
   "source": [
    "```\n",
    "// pg. 20  \n",
    "// ------------------------------------------------------------------------- //  \n",
    "// Our parser.                                                               //  \n",
    "// ------------------------------------------------------------------------- //  \n",
    "\n",
    "// intro.p005\n",
    "```"
   ]
  },
  {
   "cell_type": "code",
   "execution_count": 7,
   "metadata": {},
   "outputs": [
    {
     "data": {
      "text/plain": [
       "\u001b[36mres6\u001b[39m: \u001b[32mExpression\u001b[39m = \u001b[33mAdd\u001b[39m(\u001b[33mVar\u001b[39m(\u001b[32m\"x\"\u001b[39m), \u001b[33mConst\u001b[39m(\u001b[32m1\u001b[39m))"
      ]
     },
     "execution_count": 7,
     "metadata": {},
     "output_type": "execute_result"
    }
   ],
   "source": [
    "parseExpression(\"x + 1\")"
   ]
  },
  {
   "cell_type": "markdown",
   "metadata": {},
   "source": [
    "```\n",
    "// pg. 21   \n",
    "// ------------------------------------------------------------------------- //  \n",
    "// Demonstrate automatic installation.                                       //  \n",
    "// ------------------------------------------------------------------------- //  \n",
    "\n",
    "// intro.p006\n",
    "```"
   ]
  },
  {
   "cell_type": "code",
   "execution_count": 8,
   "metadata": {},
   "outputs": [
    {
     "data": {
      "text/plain": [
       "\u001b[36mres7\u001b[39m: \u001b[32mExpression\u001b[39m = \u001b[33mMul\u001b[39m(\n",
       "  \u001b[33mAdd\u001b[39m(\u001b[33mVar\u001b[39m(\u001b[32m\"x1\"\u001b[39m), \u001b[33mAdd\u001b[39m(\u001b[33mVar\u001b[39m(\u001b[32m\"x2\"\u001b[39m), \u001b[33mVar\u001b[39m(\u001b[32m\"x3\"\u001b[39m))),\n",
       "  \u001b[33mAdd\u001b[39m(\u001b[33mConst\u001b[39m(\u001b[32m1\u001b[39m), \u001b[33mAdd\u001b[39m(\u001b[33mConst\u001b[39m(\u001b[32m2\u001b[39m), \u001b[33mAdd\u001b[39m(\u001b[33mMul\u001b[39m(\u001b[33mConst\u001b[39m(\u001b[32m3\u001b[39m), \u001b[33mVar\u001b[39m(\u001b[32m\"x\"\u001b[39m)), \u001b[33mVar\u001b[39m(\u001b[32m\"y\"\u001b[39m))))\n",
       ")"
      ]
     },
     "execution_count": 8,
     "metadata": {},
     "output_type": "execute_result"
    }
   ],
   "source": [
    "parseExpression(\"(x1 + x2 + x3) * (1 + 2 + 3 * x + y)\")"
   ]
  },
  {
   "cell_type": "markdown",
   "metadata": {},
   "source": [
    "```\n",
    "// pg. 21  \n",
    "// ------------------------------------------------------------------------- //  \n",
    "// Examples.                                                                 //  \n",
    "// ------------------------------------------------------------------------- //  \n",
    "\n",
    "// intro.p008\n",
    "```"
   ]
  },
  {
   "cell_type": "code",
   "execution_count": 9,
   "metadata": {},
   "outputs": [
    {
     "data": {
      "text/plain": [
       "\u001b[36mres8\u001b[39m: \u001b[32mString\u001b[39m = \u001b[32m\"x + 3 * y\"\u001b[39m"
      ]
     },
     "execution_count": 9,
     "metadata": {},
     "output_type": "execute_result"
    }
   ],
   "source": [
    "printExp(parseExpression(\"x + 3 * y\"))"
   ]
  },
  {
   "cell_type": "markdown",
   "metadata": {},
   "source": [
    "```\n",
    "// intro.p009\n",
    "```"
   ]
  },
  {
   "cell_type": "code",
   "execution_count": 10,
   "metadata": {},
   "outputs": [
    {
     "data": {
      "text/plain": [
       "\u001b[36mres9\u001b[39m: \u001b[32mString\u001b[39m = \u001b[32m\"(x + 3) * y\"\u001b[39m"
      ]
     },
     "execution_count": 10,
     "metadata": {},
     "output_type": "execute_result"
    }
   ],
   "source": [
    "printExp(parseExpression(\"(x + 3) * y\"))"
   ]
  },
  {
   "cell_type": "markdown",
   "metadata": {},
   "source": [
    "```\n",
    "// intro.p010\n",
    "```"
   ]
  },
  {
   "cell_type": "code",
   "execution_count": 11,
   "metadata": {},
   "outputs": [
    {
     "data": {
      "text/plain": [
       "\u001b[36mres10\u001b[39m: \u001b[32mString\u001b[39m = \u001b[32m\"1 + 2 + 3\"\u001b[39m"
      ]
     },
     "execution_count": 11,
     "metadata": {},
     "output_type": "execute_result"
    }
   ],
   "source": [
    "printExp(parseExpression(\"1 + 2 + 3\"))"
   ]
  },
  {
   "cell_type": "markdown",
   "metadata": {
    "collapsed": true
   },
   "source": [
    "```\n",
    "// intro.p011\n",
    "```"
   ]
  },
  {
   "cell_type": "code",
   "execution_count": 12,
   "metadata": {},
   "outputs": [
    {
     "data": {
      "text/plain": [
       "\u001b[36mres11\u001b[39m: \u001b[32mString\u001b[39m = \u001b[32m\"((1 + 2) + 3) + 4\"\u001b[39m"
      ]
     },
     "execution_count": 12,
     "metadata": {},
     "output_type": "execute_result"
    }
   ],
   "source": [
    "printExp(parseExpression(\"((1 + 2) + 3) + 4\"))"
   ]
  },
  {
   "cell_type": "markdown",
   "metadata": {},
   "source": [
    "```\n",
    "// pg. 22  \n",
    "// ------------------------------------------------------------------------- //  \n",
    "// Example shows the problem.                                                //  \n",
    "// ------------------------------------------------------------------------- //  \n",
    "\n",
    "// intro.p012\n",
    "```"
   ]
  },
  {
   "cell_type": "code",
   "execution_count": 13,
   "metadata": {},
   "outputs": [
    {
     "data": {
      "text/plain": [
       "\u001b[36mres12\u001b[39m: \u001b[32mString\u001b[39m = \u001b[32m\"(x1 + x2 + x3 + x4 + x5 + x6 + x7 + x8 + x9 + x10) * (y1 + y2 + y3 + y4 + y5 + y6 + y7 + y8 + y9 + y10)\"\u001b[39m"
      ]
     },
     "execution_count": 13,
     "metadata": {},
     "output_type": "execute_result"
    }
   ],
   "source": [
    "printExp(parseExpression(\"(x1 + x2 + x3 + x4 + x5 + x6 + x7 + x8 + x9 + x10) * (y1 + y2 + y3 + y4 + y5 + y6 + y7 + y8 + y9 + y10)\"))"
   ]
  },
  {
   "cell_type": "code",
   "execution_count": null,
   "metadata": {},
   "outputs": [],
   "source": []
  }
 ],
 "metadata": {
  "kernelspec": {
   "display_name": "Scala",
   "language": "scala",
   "name": "scala"
  },
  "language_info": {
   "codemirror_mode": "text/x-scala",
   "file_extension": ".scala",
   "mimetype": "text/x-scala",
   "name": "scala",
   "nbconvert_exporter": "script",
   "version": "2.12.8"
  }
 },
 "nbformat": 4,
 "nbformat_minor": 2
}
